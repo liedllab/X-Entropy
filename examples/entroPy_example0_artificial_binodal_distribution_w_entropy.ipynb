{
 "cells": [
  {
   "cell_type": "code",
   "execution_count": null,
   "metadata": {},
   "outputs": [],
   "source": [
    "import numpy as np\n",
    "import matplotlib.pyplot as plt"
   ]
  },
  {
   "cell_type": "code",
   "execution_count": null,
   "metadata": {},
   "outputs": [],
   "source": [
    "from entropy import kde\n",
    "from entropy import dihedrals"
   ]
  },
  {
   "cell_type": "code",
   "execution_count": null,
   "metadata": {},
   "outputs": [],
   "source": []
  },
  {
   "cell_type": "markdown",
   "metadata": {},
   "source": [
    "# single Gaussian distro"
   ]
  },
  {
   "cell_type": "markdown",
   "metadata": {},
   "source": [
    "## create artificial data"
   ]
  },
  {
   "cell_type": "code",
   "execution_count": null,
   "metadata": {},
   "outputs": [],
   "source": [
    "data= np.random.randn(100000)*30"
   ]
  },
  {
   "cell_type": "markdown",
   "metadata": {},
   "source": [
    "## perform kde"
   ]
  },
  {
   "cell_type": "code",
   "execution_count": null,
   "metadata": {},
   "outputs": [],
   "source": [
    "dih_ent = dihedrals.dihedralEntropy(data=data,verbose=True)\n",
    "\n",
    "xs, ys = dih_ent.pdf_xs[0],dih_ent.pdfs[0]"
   ]
  },
  {
   "cell_type": "markdown",
   "metadata": {},
   "source": [
    "## plot normalized histogram and kde"
   ]
  },
  {
   "cell_type": "code",
   "execution_count": null,
   "metadata": {},
   "outputs": [],
   "source": [
    "f,axs = plt.subplots()\n",
    "\n",
    "\n",
    "axs.hist(data,180,density=True, label=\"histogram\")\n",
    "\n",
    "\n",
    "axs.plot(xs,ys, label=\"Entropy KDE\\nS = {:.3f} kJ/(mol*K)\".format(dih_ent.entropies[0]))\n",
    "axs.set(xlabel=\"artificial dihedrals\", ylabel=\"probability denisty\")\n",
    "\n",
    "axs.legend()"
   ]
  },
  {
   "cell_type": "markdown",
   "metadata": {},
   "source": [
    "# Gaussians of variable width"
   ]
  },
  {
   "cell_type": "markdown",
   "metadata": {},
   "source": [
    "## create artificial data"
   ]
  },
  {
   "cell_type": "code",
   "execution_count": null,
   "metadata": {},
   "outputs": [],
   "source": [
    "data= [np.random.randn(100000)*20,np.random.randn(100000)*30,np.random.randn(100000)*40,np.random.randn(100000)*50]"
   ]
  },
  {
   "cell_type": "markdown",
   "metadata": {},
   "source": [
    "## perform kde"
   ]
  },
  {
   "cell_type": "code",
   "execution_count": null,
   "metadata": {},
   "outputs": [],
   "source": [
    "dih_ent = dihedrals.dihedralEntropy(data=data,verbose=True)\n",
    "\n",
    "\n",
    "dih_ent.calculate()"
   ]
  },
  {
   "cell_type": "markdown",
   "metadata": {},
   "source": [
    "## plot normalized histogram and kde"
   ]
  },
  {
   "cell_type": "code",
   "execution_count": null,
   "metadata": {},
   "outputs": [],
   "source": [
    "f,axs = plt.subplots(2,2,figsize=(12,12),sharex=True,sharey=True)\n",
    "\n",
    "\n",
    "for ax,dat,xs,ys,S in zip(axs.flatten(),data,dih_ent.pdf_xs,dih_ent.pdfs, dih_ent.entropies):\n",
    "    ax.hist(dat,180,density=True, label=\"histogram\")\n",
    "    ax.plot(xs,ys, label=\"Entropy KDE\\nS = {:.3f} kJ/(mol*K)\".format(S))\n",
    "    \n",
    "    ax.set(xlabel=\"artificial dihedrals\", ylabel=\"probability denisty\")\n",
    "    ax.legend()"
   ]
  },
  {
   "cell_type": "code",
   "execution_count": null,
   "metadata": {},
   "outputs": [],
   "source": []
  },
  {
   "cell_type": "code",
   "execution_count": null,
   "metadata": {},
   "outputs": [],
   "source": []
  }
 ],
 "metadata": {
  "kernelspec": {
   "display_name": "Python 3",
   "language": "python",
   "name": "python3"
  },
  "language_info": {
   "codemirror_mode": {
    "name": "ipython",
    "version": 3
   },
   "file_extension": ".py",
   "mimetype": "text/x-python",
   "name": "python",
   "nbconvert_exporter": "python",
   "pygments_lexer": "ipython3",
   "version": "3.7.3"
  },
  "toc": {
   "base_numbering": 1,
   "nav_menu": {},
   "number_sections": true,
   "sideBar": true,
   "skip_h1_title": false,
   "title_cell": "Table of Contents",
   "title_sidebar": "Contents",
   "toc_cell": false,
   "toc_position": {},
   "toc_section_display": true,
   "toc_window_display": true
  }
 },
 "nbformat": 4,
 "nbformat_minor": 2
}
