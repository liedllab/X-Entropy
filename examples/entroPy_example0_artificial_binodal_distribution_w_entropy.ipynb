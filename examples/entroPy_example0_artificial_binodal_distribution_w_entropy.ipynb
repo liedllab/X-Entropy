{
 "cells": [
  {
   "cell_type": "code",
   "execution_count": null,
   "metadata": {},
   "outputs": [],
   "source": [
    "import numpy as np\n",
    "import matplotlib.pyplot as plt"
   ]
  },
  {
   "cell_type": "code",
   "execution_count": null,
   "metadata": {},
   "outputs": [],
   "source": [
    "from xentropy import dihedrals"
   ]
  },
  {
   "cell_type": "code",
   "execution_count": null,
   "metadata": {},
   "outputs": [],
   "source": [
    "from astropy import units as au"
   ]
  },
  {
   "cell_type": "markdown",
   "metadata": {},
   "source": [
    "# single Gaussian distro"
   ]
  },
  {
   "cell_type": "markdown",
   "metadata": {},
   "source": [
    "## create artificial data"
   ]
  },
  {
   "cell_type": "code",
   "execution_count": null,
   "metadata": {},
   "outputs": [],
   "source": [
    "data= np.random.randn(100000)*30"
   ]
  },
  {
   "cell_type": "markdown",
   "metadata": {},
   "source": [
    "## perform kde"
   ]
  },
  {
   "cell_type": "code",
   "execution_count": null,
   "metadata": {},
   "outputs": [],
   "source": [
    "dih_ent = dihedrals.dihedralEntropy(data=data,verbose=True)\n",
    "\n",
    "xs, ys = dih_ent.pdf_x,dih_ent.pdf"
   ]
  },
  {
   "cell_type": "markdown",
   "metadata": {},
   "source": [
    "## plot normalized histogram and kde"
   ]
  },
  {
   "cell_type": "code",
   "execution_count": null,
   "metadata": {},
   "outputs": [],
   "source": [
    "f,axs = plt.subplots()\n",
    "\n",
    "\n",
    "axs.hist(data,180,density=True, label=\"histogram\")\n",
    "\n",
    "\n",
    "axs.plot(xs,ys, lw=5,alpha=.7, label=\"Entropy KDE\\nS = {:.3f} J/(mol*K)\".format(dih_ent.entropy))\n",
    "axs.set(xlabel=\"artificial dihedrals\", ylabel=\"probability denisty\")\n",
    "\n",
    "axs.legend()"
   ]
  },
  {
   "cell_type": "markdown",
   "metadata": {},
   "source": [
    "# Gaussians of variable width"
   ]
  },
  {
   "cell_type": "markdown",
   "metadata": {},
   "source": [
    "## create artificial data"
   ]
  },
  {
   "cell_type": "code",
   "execution_count": null,
   "metadata": {},
   "outputs": [],
   "source": [
    "data= [np.random.randn(100000)*20,\n",
    "       np.random.randn(100000)*30,\n",
    "       np.random.randn(100000)*40,\n",
    "       np.random.randn(100000)*50]"
   ]
  },
  {
   "cell_type": "markdown",
   "metadata": {},
   "source": [
    "## perform kde"
   ]
  },
  {
   "cell_type": "code",
   "execution_count": null,
   "metadata": {},
   "outputs": [],
   "source": [
    "dih_ent = dihedrals.dihedralEntropy(data=data,verbose=True)\n",
    "\n",
    "dih_ent.calculate()"
   ]
  },
  {
   "cell_type": "markdown",
   "metadata": {},
   "source": [
    "## plot normalized histogram and kde"
   ]
  },
  {
   "cell_type": "code",
   "execution_count": null,
   "metadata": {},
   "outputs": [],
   "source": [
    "f,axs = plt.subplots(2,2,figsize=(12,12),sharex=True,sharey=True)\n",
    "\n",
    "\n",
    "for ax,dat,xs,ys,S in zip(axs.flatten(),data,dih_ent.pdf_x,dih_ent.pdf, dih_ent.entropy):\n",
    "    ax.hist(dat,180,density=True, label=\"histogram\")\n",
    "    ax.plot(xs,ys, lw=5,alpha=.7, label=\"Entropy KDE\\nS = {:.3f} J/(mol*K)\".format(S))\n",
    "    \n",
    "    ax.set(xlabel=\"artificial dihedrals\", ylabel=\"probability denisty\")\n",
    "    ax.legend()\n",
    "f.tight_layout()"
   ]
  },
  {
   "cell_type": "markdown",
   "metadata": {},
   "source": [
    "# binodal distributions"
   ]
  },
  {
   "cell_type": "markdown",
   "metadata": {},
   "source": [
    "## create artificial data"
   ]
  },
  {
   "cell_type": "code",
   "execution_count": null,
   "metadata": {},
   "outputs": [],
   "source": [
    "def binodal_data(n_samples=1001,w1=10,w2=10):\n",
    "    n1 = n_samples//2\n",
    "    n2 = n_samples-n1\n",
    "    p1 = np.random.randn(n1)*w1-90\n",
    "    p2 = np.random.randn(n2)*w2+90\n",
    "\n",
    "    return np.concatenate([p1,p2])"
   ]
  },
  {
   "cell_type": "code",
   "execution_count": null,
   "metadata": {},
   "outputs": [],
   "source": [
    "data= [binodal_data(100000,5,25),\n",
    "       binodal_data(100000,15,25),\n",
    "       binodal_data(100000,25,25),\n",
    "       binodal_data(100000,35,25)]"
   ]
  },
  {
   "cell_type": "markdown",
   "metadata": {},
   "source": [
    "## perform kde"
   ]
  },
  {
   "cell_type": "code",
   "execution_count": null,
   "metadata": {},
   "outputs": [],
   "source": [
    "dih_ent = dihedrals.dihedralEntropy(data=data,verbose=False)\n",
    "\n",
    "dih_ent.calculate()"
   ]
  },
  {
   "cell_type": "markdown",
   "metadata": {},
   "source": [
    "## plot normalized histogram and kde"
   ]
  },
  {
   "cell_type": "code",
   "execution_count": null,
   "metadata": {},
   "outputs": [],
   "source": [
    "f,axs = plt.subplots(2,2,figsize=(12,12),sharex=True,sharey=True)\n",
    "\n",
    "\n",
    "for ax,dat,xs,ys,S in zip(axs.flatten(),data,dih_ent.pdf_x,dih_ent.pdf, dih_ent.entropy):\n",
    "    ax.hist(dat,180,density=True, label=\"histogram\")\n",
    "    ax.plot(xs,ys, lw=5,alpha=.7, label=\"Entropy KDE\\nS = {:.3f} J/(mol*K)\".format(S))\n",
    "    \n",
    "    ax.set(xlabel=\"artificial dihedrals\", ylabel=\"probability denisty\")\n",
    "    ax.legend()\n",
    "f.tight_layout()"
   ]
  },
  {
   "cell_type": "markdown",
   "metadata": {},
   "source": [
    "# shifted binodal distributions"
   ]
  },
  {
   "cell_type": "markdown",
   "metadata": {},
   "source": [
    "## create artificial data"
   ]
  },
  {
   "cell_type": "code",
   "execution_count": null,
   "metadata": {},
   "outputs": [],
   "source": [
    "def binodal_data(n_samples=1001,w1=10,w2=10):\n",
    "    n1 = n_samples//2\n",
    "    n2 = n_samples-n1\n",
    "    p1 = np.random.randn(n1)*w1\n",
    "    p2 = np.random.randn(n2)*w2+180\n",
    "\n",
    "    return np.divmod(np.concatenate([p1,p2]),360)[1]-180"
   ]
  },
  {
   "cell_type": "code",
   "execution_count": null,
   "metadata": {},
   "outputs": [],
   "source": [
    "data= [binodal_data(100000,5,25),\n",
    "       binodal_data(100000,15,25),\n",
    "       binodal_data(100000,25,25),\n",
    "       binodal_data(100000,35,25)]"
   ]
  },
  {
   "cell_type": "markdown",
   "metadata": {},
   "source": [
    "## perform kde"
   ]
  },
  {
   "cell_type": "code",
   "execution_count": null,
   "metadata": {},
   "outputs": [],
   "source": [
    "dih_ent = dihedrals.dihedralEntropy(data=data,verbose=False)\n",
    "\n",
    "dih_ent.calculate()"
   ]
  },
  {
   "cell_type": "markdown",
   "metadata": {},
   "source": [
    "## plot normalized histogram and kde"
   ]
  },
  {
   "cell_type": "code",
   "execution_count": null,
   "metadata": {},
   "outputs": [],
   "source": [
    "f,axs = plt.subplots(2,2,figsize=(12,12),sharex=True,sharey=True)\n",
    "\n",
    "\n",
    "for ax,dat,xs,ys,S in zip(axs.flatten(),data,dih_ent.pdf_x,dih_ent.pdf, dih_ent.entropy):\n",
    "    ax.hist(dat,180,density=True, label=\"histogram\")\n",
    "    ax.plot(xs,ys, lw=5,alpha=.7, label=\"Entropy KDE\\nS = {:.3f} J/(mol*K)\".format(S))\n",
    "    \n",
    "    ax.set(xlabel=\"artificial dihedrals\", ylabel=\"probability denisty\")\n",
    "    ax.legend()\n",
    "f.tight_layout()"
   ]
  },
  {
   "cell_type": "code",
   "execution_count": null,
   "metadata": {},
   "outputs": [],
   "source": []
  },
  {
   "cell_type": "code",
   "execution_count": null,
   "metadata": {},
   "outputs": [],
   "source": []
  },
  {
   "cell_type": "markdown",
   "metadata": {},
   "source": [
    "# trinodal distributions (butane-like)"
   ]
  },
  {
   "cell_type": "markdown",
   "metadata": {},
   "source": [
    "## create artificial data"
   ]
  },
  {
   "cell_type": "code",
   "execution_count": null,
   "metadata": {},
   "outputs": [],
   "source": [
    "def trinodal_data(n_samples=1001,w1=20,w2=20,w3=20):\n",
    "    n1 = int(n_samples*2/5)\n",
    "    n2 = int((n_samples-n1)/2)\n",
    "    n3 = n_samples-n1-n2\n",
    "    p1 = np.random.randn(n1)*w1\n",
    "    p2 = np.random.randn(n2)*w2-120\n",
    "    p3 = np.random.randn(n3)*w3+120\n",
    "\n",
    "    return np.concatenate([p1,p2,p3])"
   ]
  },
  {
   "cell_type": "code",
   "execution_count": null,
   "metadata": {},
   "outputs": [],
   "source": [
    "data= trinodal_data(100000)"
   ]
  },
  {
   "cell_type": "markdown",
   "metadata": {},
   "source": [
    "## perform kde"
   ]
  },
  {
   "cell_type": "code",
   "execution_count": null,
   "metadata": {},
   "outputs": [],
   "source": [
    "dih_ent = dihedrals.dihedralEntropy(data=data,verbose=False)\n",
    "\n",
    "dih_ent.calculate()\n",
    "xs, ys = dih_ent.pdf_x,dih_ent.pdf"
   ]
  },
  {
   "cell_type": "markdown",
   "metadata": {},
   "source": [
    "## plot normalized histogram and kde"
   ]
  },
  {
   "cell_type": "code",
   "execution_count": null,
   "metadata": {},
   "outputs": [],
   "source": [
    "f,axs = plt.subplots()\n",
    "\n",
    "\n",
    "axs.hist(data,180,density=True, label=\"histogram\")\n",
    "\n",
    "\n",
    "axs.plot(xs,ys, lw=5,alpha=.7, label=\"Entropy KDE\\nS = {:.3f} J/(mol*K)\".format(dih_ent.entropy))\n",
    "axs.set(xlabel=\"artificial dihedrals\", ylabel=\"probability denisty\")\n",
    "\n",
    "axs.legend()"
   ]
  },
  {
   "cell_type": "code",
   "execution_count": null,
   "metadata": {},
   "outputs": [],
   "source": []
  },
  {
   "cell_type": "code",
   "execution_count": null,
   "metadata": {},
   "outputs": [],
   "source": []
  }
 ],
 "metadata": {
  "kernelspec": {
   "display_name": "Python 3",
   "language": "python",
   "name": "python3"
  },
  "language_info": {
   "codemirror_mode": {
    "name": "ipython",
    "version": 3
   },
   "file_extension": ".py",
   "mimetype": "text/x-python",
   "name": "python",
   "nbconvert_exporter": "python",
   "pygments_lexer": "ipython3",
   "version": "3.8.3"
  },
  "toc": {
   "base_numbering": 1,
   "nav_menu": {},
   "number_sections": true,
   "sideBar": true,
   "skip_h1_title": false,
   "title_cell": "Table of Contents",
   "title_sidebar": "Contents",
   "toc_cell": false,
   "toc_position": {
    "height": "calc(100% - 180px)",
    "left": "10px",
    "top": "150px",
    "width": "384px"
   },
   "toc_section_display": true,
   "toc_window_display": true
  }
 },
 "nbformat": 4,
 "nbformat_minor": 2
}
